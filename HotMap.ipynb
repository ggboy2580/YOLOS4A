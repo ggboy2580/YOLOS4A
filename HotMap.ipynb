{
 "cells": [
  {
   "cell_type": "code",
   "id": "initial_id",
   "metadata": {
    "collapsed": true,
    "ExecuteTime": {
     "end_time": "2025-09-28T07:47:05.186532Z",
     "start_time": "2025-09-28T07:47:01.582201Z"
    }
   },
   "source": [
    "import os.path\n",
    "\n",
    "from ultralytics import YOLO\n",
    "from pathlib import Path\n",
    "import time\n",
    "from pycocotools.coco import COCO\n",
    "from pycocotools.cocoeval import COCOeval\n",
    "\n",
    "if __name__ == \"__main__\":\n",
    "    # 1. 加载模型\n",
    "    model = YOLO(r\"D:\\Models\\YOLOS4A-l.pt\")"
   ],
   "outputs": [],
   "execution_count": 1
  },
  {
   "metadata": {},
   "cell_type": "code",
   "outputs": [],
   "execution_count": null,
   "source": "",
   "id": "d962a398e083e0b8"
  }
 ],
 "metadata": {
  "kernelspec": {
   "display_name": "Python 3",
   "language": "python",
   "name": "python3"
  },
  "language_info": {
   "codemirror_mode": {
    "name": "ipython",
    "version": 2
   },
   "file_extension": ".py",
   "mimetype": "text/x-python",
   "name": "python",
   "nbconvert_exporter": "python",
   "pygments_lexer": "ipython2",
   "version": "2.7.6"
  }
 },
 "nbformat": 4,
 "nbformat_minor": 5
}
