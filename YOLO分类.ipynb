{
 "cells": [
  {
   "cell_type": "code",
   "execution_count": 2,
   "id": "initial_id",
   "metadata": {
    "ExecuteTime": {
     "end_time": "2024-12-05T04:31:50.641497800Z",
     "start_time": "2024-12-05T04:31:50.573068300Z"
    },
    "collapsed": true
   },
   "outputs": [
    {
     "name": "stdout",
     "output_type": "stream",
     "text": [
      "WARNING  no model scale passed. Assuming scale='n'.\n",
      "YOLO11-cls summary: 151 layers, 1,633,584 parameters, 1,633,584 gradients, 3.3 GFLOPs\n"
     ]
    }
   ],
   "source": [
    "from ultralytics import YOLO\n",
    "\n",
    "yolo = YOLO(r\"D:\\codes\\ultralytics-main\\ultralytics\\cfg\\models\\11\\yolo11-cls.yaml\")"
   ]
  },
  {
   "cell_type": "code",
   "execution_count": 3,
   "id": "39368bf4a10ab671",
   "metadata": {
    "ExecuteTime": {
     "end_time": "2024-12-05T04:38:51.447911700Z",
     "start_time": "2024-12-05T04:38:46.595198800Z"
    },
    "collapsed": false
   },
   "outputs": [
    {
     "name": "stdout",
     "output_type": "stream",
     "text": [
      "0: 640x640 51 0.01, 7 0.01, 9 0.01, 33 0.01, 54 0.01, 4.0ms\n",
      "Speed: 23.1ms preprocess, 4.0ms inference, 0.0ms postprocess per image at shape (1, 3, 640, 640)\n"
     ]
    }
   ],
   "source": [
    "from PIL import Image\n",
    "\n",
    "img = Image.open(r\"D:\\BaiduSyncdisk\\01bmpv\\photos\\腾讯会议背景.jpg\")\n",
    "cls = yolo.predict(img)"
   ]
  },
  {
   "cell_type": "code",
   "execution_count": null,
   "id": "104fd0629b08fff5",
   "metadata": {
    "collapsed": false
   },
   "outputs": [],
   "source": []
  }
 ],
 "metadata": {
  "kernelspec": {
   "display_name": "Python 3",
   "language": "python",
   "name": "python3"
  },
  "language_info": {
   "codemirror_mode": {
    "name": "ipython",
    "version": 2
   },
   "file_extension": ".py",
   "mimetype": "text/x-python",
   "name": "python",
   "nbconvert_exporter": "python",
   "pygments_lexer": "ipython2",
   "version": "2.7.6"
  }
 },
 "nbformat": 4,
 "nbformat_minor": 5
}
