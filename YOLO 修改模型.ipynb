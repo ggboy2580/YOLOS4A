{
 "cells": [
  {
   "cell_type": "code",
   "id": "initial_id",
   "metadata": {
    "collapsed": true,
    "ExecuteTime": {
     "end_time": "2025-09-23T11:56:52.168836Z",
     "start_time": "2025-09-23T11:56:51.918719Z"
    }
   },
   "source": [
    "import torch\n",
    "from pyasn1_modules.rfc2985 import pkcs_9_oc\n",
    "from statsmodels.sandbox.distributions.genpareto import shape\n",
    "\n",
    "from ultralytics import YOLO\n",
    "import numpy as np\n",
    "from ultralytics.nn.tasks import DetectionModel\n",
    "if __name__ == \"__main__\":\n",
    "    # 加载YOLO模型（配置文件或预训练权重）\n",
    "    MODEL_PATH = r\"D:\\codes\\YOLOS4A\\ultralytics\\cfg\\models\\S4A\\yolov8-SMALL-4head-SE-CA-ECA.yaml\"  # 你的配置文件路径\n",
    "\n",
    "    model=DetectionModel(MODEL_PATH)\n",
    "    # model=YOLO(MODEL_PATH)\n"
   ],
   "outputs": [
    {
     "name": "stdout",
     "output_type": "stream",
     "text": [
      "WARNING no model scale passed. Assuming scale='l'.\n",
      "\n",
      "                   from  n    params  module                                       arguments                     \n",
      "  0                  -1  1       928  ultralytics.nn.modules.conv.Conv             [3, 32, 3, 2]                 \n",
      "  1                  -1  1     18560  ultralytics.nn.modules.conv.Conv             [32, 64, 3, 2]                \n",
      "  2                  -1  2     49920  ultralytics.nn.modules.block.C2f_SE          [64, 64, 2, True]             \n",
      "  3                  -1  1     73984  ultralytics.nn.modules.conv.Conv             [64, 128, 3, 2]               \n",
      "  4                  -1  3    284872  ultralytics.nn.modules.block.C2f_CA          [128, 128, 3, True]           \n",
      "  5                  -1  1    295424  ultralytics.nn.modules.conv.Conv             [128, 256, 3, 2]              \n",
      "  6                  -1  3   1116681  ultralytics.nn.modules.block.C2f_ECA         [256, 256, 3, True]           \n",
      "  7                  -1  1   1180672  ultralytics.nn.modules.conv.Conv             [256, 512, 3, 2]              \n",
      "  8                  -1  2   3166208  ultralytics.nn.modules.block.C2f_SE          [512, 512, 2, True]           \n",
      "  9                  -1  1    656896  ultralytics.nn.modules.block.SPPF            [512, 512, 5]                 \n",
      " 10                  -1  1         0  torch.nn.modules.upsampling.Upsample         [None, 2, 'nearest']          \n",
      " 11             [-1, 6]  1         0  ultralytics.nn.modules.conv.Concat           [1]                           \n",
      " 12                  -1  3   1247744  ultralytics.nn.modules.block.C2f             [768, 256, 3]                 \n",
      " 13                  -1  1         0  torch.nn.modules.upsampling.Upsample         [None, 2, 'nearest']          \n",
      " 14             [-1, 4]  1         0  ultralytics.nn.modules.conv.Concat           [1]                           \n",
      " 15                  -1  3    665472  ultralytics.nn.modules.block.C2f             [384, 192, 3]                 \n",
      " 16                  -1  1         0  torch.nn.modules.upsampling.Upsample         [None, 2, 'nearest']          \n",
      " 17             [-1, 2]  1         0  ultralytics.nn.modules.conv.Concat           [1]                           \n",
      " 18                  -1  3    296192  ultralytics.nn.modules.block.C2f             [256, 128, 3]                 \n",
      " 19     [18, 15, 12, 9]  1   2642232  ultralytics.nn.modules.head.Detect           [10, [128, 192, 256, 512]]    \n",
      "YOLOv8-SMALL-4head-SE-CA-ECA summary: 217 layers, 11,695,785 parameters, 11,695,769 gradients, 75.3 GFLOPs\n",
      "\n"
     ]
    }
   ],
   "execution_count": 3
  },
  {
   "metadata": {
    "ExecuteTime": {
     "end_time": "2025-09-23T11:56:52.186515Z",
     "start_time": "2025-09-23T11:56:52.183375Z"
    }
   },
   "cell_type": "code",
   "source": "print(model.model[0])",
   "id": "c2ffb3c0c80de85a",
   "outputs": [
    {
     "name": "stdout",
     "output_type": "stream",
     "text": [
      "Conv(\n",
      "  (conv): Conv2d(3, 32, kernel_size=(3, 3), stride=(2, 2), padding=(1, 1), bias=False)\n",
      "  (bn): BatchNorm2d(32, eps=0.001, momentum=0.03, affine=True, track_running_stats=True)\n",
      "  (act): SiLU(inplace=True)\n",
      ")\n"
     ]
    }
   ],
   "execution_count": 4
  },
  {
   "metadata": {
    "ExecuteTime": {
     "end_time": "2025-09-23T11:56:52.211111Z",
     "start_time": "2025-09-23T11:56:52.207128Z"
    }
   },
   "cell_type": "code",
   "source": "print(len(model.model))",
   "id": "2f7a5a839170673a",
   "outputs": [
    {
     "name": "stdout",
     "output_type": "stream",
     "text": [
      "20\n"
     ]
    }
   ],
   "execution_count": 5
  },
  {
   "metadata": {
    "ExecuteTime": {
     "end_time": "2025-09-23T11:56:52.267774Z",
     "start_time": "2025-09-23T11:56:52.254281Z"
    }
   },
   "cell_type": "code",
   "source": [
    "in_=torch.randn(1,3,640,640)\n",
    "out=model.model[0](in_)\n",
    "print(in_.shape,out.shape)"
   ],
   "id": "41ac1ba32e6d7507",
   "outputs": [
    {
     "name": "stdout",
     "output_type": "stream",
     "text": [
      "torch.Size([1, 3, 640, 640]) torch.Size([1, 32, 320, 320])\n"
     ]
    }
   ],
   "execution_count": 6
  },
  {
   "metadata": {
    "ExecuteTime": {
     "end_time": "2025-09-23T11:56:52.417377Z",
     "start_time": "2025-09-23T11:56:52.283289Z"
    }
   },
   "cell_type": "code",
   "source": [
    "in_=torch.randn(1,3,640,640)\n",
    "i=0\n",
    "p_list=[in_]\n",
    "for i in range(10):\n",
    "    layer=model.model[i]\n",
    "    print(f\"{i}_________________________________________\")\n",
    "    print(f\"in_shape:::{in_.shape}\")\n",
    "    out=layer(in_)\n",
    "    print(layer)\n",
    "    print(f\"out_shape:::{out.shape}\")\n",
    "    in_=out\n",
    "    p_list.append(out)\n",
    "    print(\"##############################################\")\n",
    "    if i==4:\n",
    "        p4_out=out\n",
    "    if i==2:\n",
    "        p2_out=out"
   ],
   "id": "e225b1af8c5fc8f2",
   "outputs": [
    {
     "name": "stdout",
     "output_type": "stream",
     "text": [
      "0_________________________________________\n",
      "in_shape:::torch.Size([1, 3, 640, 640])\n",
      "Conv(\n",
      "  (conv): Conv2d(3, 32, kernel_size=(3, 3), stride=(2, 2), padding=(1, 1), bias=False)\n",
      "  (bn): BatchNorm2d(32, eps=0.001, momentum=0.03, affine=True, track_running_stats=True)\n",
      "  (act): SiLU(inplace=True)\n",
      ")\n",
      "out_shape:::torch.Size([1, 32, 320, 320])\n",
      "##############################################\n",
      "1_________________________________________\n",
      "in_shape:::torch.Size([1, 32, 320, 320])\n",
      "Conv(\n",
      "  (conv): Conv2d(32, 64, kernel_size=(3, 3), stride=(2, 2), padding=(1, 1), bias=False)\n",
      "  (bn): BatchNorm2d(64, eps=0.001, momentum=0.03, affine=True, track_running_stats=True)\n",
      "  (act): SiLU(inplace=True)\n",
      ")\n",
      "out_shape:::torch.Size([1, 64, 160, 160])\n",
      "##############################################\n",
      "2_________________________________________\n",
      "in_shape:::torch.Size([1, 64, 160, 160])\n",
      "C2f_SE(\n",
      "  (cv1): Conv(\n",
      "    (conv): Conv2d(64, 64, kernel_size=(1, 1), stride=(1, 1), bias=False)\n",
      "    (bn): BatchNorm2d(64, eps=0.001, momentum=0.03, affine=True, track_running_stats=True)\n",
      "    (act): SiLU(inplace=True)\n",
      "  )\n",
      "  (cv2): Conv(\n",
      "    (conv): Conv2d(128, 64, kernel_size=(1, 1), stride=(1, 1), bias=False)\n",
      "    (bn): BatchNorm2d(64, eps=0.001, momentum=0.03, affine=True, track_running_stats=True)\n",
      "    (act): SiLU(inplace=True)\n",
      "  )\n",
      "  (m): ModuleList(\n",
      "    (0-1): 2 x SE_Bottleneck(\n",
      "      (cv1): Conv(\n",
      "        (conv): Conv2d(32, 32, kernel_size=(3, 3), stride=(1, 1), padding=(1, 1), bias=False)\n",
      "        (bn): BatchNorm2d(32, eps=0.001, momentum=0.03, affine=True, track_running_stats=True)\n",
      "        (act): SiLU(inplace=True)\n",
      "      )\n",
      "      (cv2): Conv(\n",
      "        (conv): Conv2d(32, 32, kernel_size=(3, 3), stride=(1, 1), padding=(1, 1), bias=False)\n",
      "        (bn): BatchNorm2d(32, eps=0.001, momentum=0.03, affine=True, track_running_stats=True)\n",
      "        (act): SiLU(inplace=True)\n",
      "      )\n",
      "      (se): SE(\n",
      "        (avgpool): AdaptiveAvgPool2d(output_size=1)\n",
      "        (l1): Linear(in_features=32, out_features=2, bias=False)\n",
      "        (relu): ReLU(inplace=True)\n",
      "        (l2): Linear(in_features=2, out_features=32, bias=False)\n",
      "        (sig): Sigmoid()\n",
      "      )\n",
      "    )\n",
      "  )\n",
      ")\n",
      "out_shape:::torch.Size([1, 64, 160, 160])\n",
      "##############################################\n",
      "3_________________________________________\n",
      "in_shape:::torch.Size([1, 64, 160, 160])\n",
      "Conv(\n",
      "  (conv): Conv2d(64, 128, kernel_size=(3, 3), stride=(2, 2), padding=(1, 1), bias=False)\n",
      "  (bn): BatchNorm2d(128, eps=0.001, momentum=0.03, affine=True, track_running_stats=True)\n",
      "  (act): SiLU(inplace=True)\n",
      ")\n",
      "out_shape:::torch.Size([1, 128, 80, 80])\n",
      "##############################################\n",
      "4_________________________________________\n",
      "in_shape:::torch.Size([1, 128, 80, 80])\n",
      "C2f_CA(\n",
      "  (cv1): Conv(\n",
      "    (conv): Conv2d(128, 128, kernel_size=(1, 1), stride=(1, 1), bias=False)\n",
      "    (bn): BatchNorm2d(128, eps=0.001, momentum=0.03, affine=True, track_running_stats=True)\n",
      "    (act): SiLU(inplace=True)\n",
      "  )\n",
      "  (cv2): Conv(\n",
      "    (conv): Conv2d(320, 128, kernel_size=(1, 1), stride=(1, 1), bias=False)\n",
      "    (bn): BatchNorm2d(128, eps=0.001, momentum=0.03, affine=True, track_running_stats=True)\n",
      "    (act): SiLU(inplace=True)\n",
      "  )\n",
      "  (m): ModuleList(\n",
      "    (0-2): 3 x CA_Bottleneck(\n",
      "      (cv1): Conv(\n",
      "        (conv): Conv2d(64, 64, kernel_size=(3, 3), stride=(1, 1), padding=(1, 1), bias=False)\n",
      "        (bn): BatchNorm2d(64, eps=0.001, momentum=0.03, affine=True, track_running_stats=True)\n",
      "        (act): SiLU(inplace=True)\n",
      "      )\n",
      "      (cv2): Conv(\n",
      "        (conv): Conv2d(64, 64, kernel_size=(3, 3), stride=(1, 1), padding=(1, 1), bias=False)\n",
      "        (bn): BatchNorm2d(64, eps=0.001, momentum=0.03, affine=True, track_running_stats=True)\n",
      "        (act): SiLU(inplace=True)\n",
      "      )\n",
      "      (ca): CoordAtt(\n",
      "        (pool_h): AdaptiveAvgPool2d(output_size=(None, 1))\n",
      "        (pool_w): AdaptiveAvgPool2d(output_size=(1, None))\n",
      "        (conv1): Conv2d(64, 8, kernel_size=(1, 1), stride=(1, 1))\n",
      "        (bn1): BatchNorm2d(8, eps=0.001, momentum=0.03, affine=True, track_running_stats=True)\n",
      "        (act): h_swish(\n",
      "          (sigmoid): h_sigmoid(\n",
      "            (relu): ReLU6(inplace=True)\n",
      "          )\n",
      "        )\n",
      "        (conv_h): Conv2d(8, 64, kernel_size=(1, 1), stride=(1, 1))\n",
      "        (conv_w): Conv2d(8, 64, kernel_size=(1, 1), stride=(1, 1))\n",
      "      )\n",
      "    )\n",
      "  )\n",
      ")\n",
      "out_shape:::torch.Size([1, 128, 80, 80])\n",
      "##############################################\n",
      "5_________________________________________\n",
      "in_shape:::torch.Size([1, 128, 80, 80])\n",
      "Conv(\n",
      "  (conv): Conv2d(128, 256, kernel_size=(3, 3), stride=(2, 2), padding=(1, 1), bias=False)\n",
      "  (bn): BatchNorm2d(256, eps=0.001, momentum=0.03, affine=True, track_running_stats=True)\n",
      "  (act): SiLU(inplace=True)\n",
      ")\n",
      "out_shape:::torch.Size([1, 256, 40, 40])\n",
      "##############################################\n",
      "6_________________________________________\n",
      "in_shape:::torch.Size([1, 256, 40, 40])\n",
      "C2f_ECA(\n",
      "  (cv1): Conv(\n",
      "    (conv): Conv2d(256, 256, kernel_size=(1, 1), stride=(1, 1), bias=False)\n",
      "    (bn): BatchNorm2d(256, eps=0.001, momentum=0.03, affine=True, track_running_stats=True)\n",
      "    (act): SiLU(inplace=True)\n",
      "  )\n",
      "  (cv2): Conv(\n",
      "    (conv): Conv2d(640, 256, kernel_size=(1, 1), stride=(1, 1), bias=False)\n",
      "    (bn): BatchNorm2d(256, eps=0.001, momentum=0.03, affine=True, track_running_stats=True)\n",
      "    (act): SiLU(inplace=True)\n",
      "  )\n",
      "  (m): ModuleList(\n",
      "    (0-2): 3 x ECA_Bottleneck(\n",
      "      (cv1): Conv(\n",
      "        (conv): Conv2d(128, 128, kernel_size=(3, 3), stride=(1, 1), padding=(1, 1), bias=False)\n",
      "        (bn): BatchNorm2d(128, eps=0.001, momentum=0.03, affine=True, track_running_stats=True)\n",
      "        (act): SiLU(inplace=True)\n",
      "      )\n",
      "      (cv2): Conv(\n",
      "        (conv): Conv2d(128, 128, kernel_size=(3, 3), stride=(1, 1), padding=(1, 1), bias=False)\n",
      "        (bn): BatchNorm2d(128, eps=0.001, momentum=0.03, affine=True, track_running_stats=True)\n",
      "        (act): SiLU(inplace=True)\n",
      "      )\n",
      "      (eca): ECA(\n",
      "        (avg_pool): AdaptiveAvgPool2d(output_size=1)\n",
      "        (conv): Conv1d(1, 1, kernel_size=(3,), stride=(1,), padding=(1,), bias=False)\n",
      "        (sigmoid): Sigmoid()\n",
      "      )\n",
      "    )\n",
      "  )\n",
      ")\n",
      "out_shape:::torch.Size([1, 256, 40, 40])\n",
      "##############################################\n",
      "7_________________________________________\n",
      "in_shape:::torch.Size([1, 256, 40, 40])\n",
      "Conv(\n",
      "  (conv): Conv2d(256, 512, kernel_size=(3, 3), stride=(2, 2), padding=(1, 1), bias=False)\n",
      "  (bn): BatchNorm2d(512, eps=0.001, momentum=0.03, affine=True, track_running_stats=True)\n",
      "  (act): SiLU(inplace=True)\n",
      ")\n",
      "out_shape:::torch.Size([1, 512, 20, 20])\n",
      "##############################################\n",
      "8_________________________________________\n",
      "in_shape:::torch.Size([1, 512, 20, 20])\n",
      "C2f_SE(\n",
      "  (cv1): Conv(\n",
      "    (conv): Conv2d(512, 512, kernel_size=(1, 1), stride=(1, 1), bias=False)\n",
      "    (bn): BatchNorm2d(512, eps=0.001, momentum=0.03, affine=True, track_running_stats=True)\n",
      "    (act): SiLU(inplace=True)\n",
      "  )\n",
      "  (cv2): Conv(\n",
      "    (conv): Conv2d(1024, 512, kernel_size=(1, 1), stride=(1, 1), bias=False)\n",
      "    (bn): BatchNorm2d(512, eps=0.001, momentum=0.03, affine=True, track_running_stats=True)\n",
      "    (act): SiLU(inplace=True)\n",
      "  )\n",
      "  (m): ModuleList(\n",
      "    (0-1): 2 x SE_Bottleneck(\n",
      "      (cv1): Conv(\n",
      "        (conv): Conv2d(256, 256, kernel_size=(3, 3), stride=(1, 1), padding=(1, 1), bias=False)\n",
      "        (bn): BatchNorm2d(256, eps=0.001, momentum=0.03, affine=True, track_running_stats=True)\n",
      "        (act): SiLU(inplace=True)\n",
      "      )\n",
      "      (cv2): Conv(\n",
      "        (conv): Conv2d(256, 256, kernel_size=(3, 3), stride=(1, 1), padding=(1, 1), bias=False)\n",
      "        (bn): BatchNorm2d(256, eps=0.001, momentum=0.03, affine=True, track_running_stats=True)\n",
      "        (act): SiLU(inplace=True)\n",
      "      )\n",
      "      (se): SE(\n",
      "        (avgpool): AdaptiveAvgPool2d(output_size=1)\n",
      "        (l1): Linear(in_features=256, out_features=16, bias=False)\n",
      "        (relu): ReLU(inplace=True)\n",
      "        (l2): Linear(in_features=16, out_features=256, bias=False)\n",
      "        (sig): Sigmoid()\n",
      "      )\n",
      "    )\n",
      "  )\n",
      ")\n",
      "out_shape:::torch.Size([1, 512, 20, 20])\n",
      "##############################################\n",
      "9_________________________________________\n",
      "in_shape:::torch.Size([1, 512, 20, 20])\n",
      "SPPF(\n",
      "  (cv1): Conv(\n",
      "    (conv): Conv2d(512, 256, kernel_size=(1, 1), stride=(1, 1), bias=False)\n",
      "    (bn): BatchNorm2d(256, eps=0.001, momentum=0.03, affine=True, track_running_stats=True)\n",
      "    (act): SiLU(inplace=True)\n",
      "  )\n",
      "  (cv2): Conv(\n",
      "    (conv): Conv2d(1024, 512, kernel_size=(1, 1), stride=(1, 1), bias=False)\n",
      "    (bn): BatchNorm2d(512, eps=0.001, momentum=0.03, affine=True, track_running_stats=True)\n",
      "    (act): SiLU(inplace=True)\n",
      "  )\n",
      "  (m): MaxPool2d(kernel_size=5, stride=1, padding=2, dilation=1, ceil_mode=False)\n",
      ")\n",
      "out_shape:::torch.Size([1, 512, 20, 20])\n",
      "##############################################\n"
     ]
    }
   ],
   "execution_count": 7
  },
  {
   "metadata": {
    "ExecuteTime": {
     "end_time": "2025-09-23T11:56:52.430038Z",
     "start_time": "2025-09-23T11:56:52.426004Z"
    }
   },
   "cell_type": "code",
   "source": "p4_out.shape",
   "id": "c63416e852749119",
   "outputs": [
    {
     "data": {
      "text/plain": [
       "torch.Size([1, 128, 80, 80])"
      ]
     },
     "execution_count": 8,
     "metadata": {},
     "output_type": "execute_result"
    }
   ],
   "execution_count": 8
  },
  {
   "metadata": {
    "ExecuteTime": {
     "end_time": "2025-09-23T11:56:52.450705Z",
     "start_time": "2025-09-23T11:56:52.444701Z"
    }
   },
   "cell_type": "code",
   "source": [
    "p10=model.model[10]\n",
    "print(p10)\n",
    "print(p_list[-1].shape)\n",
    "out=p10(p_list[-1])\n",
    "p_list.append(out)\n",
    "print(out.shape)\n",
    "\n"
   ],
   "id": "aaca8987dd24caaa",
   "outputs": [
    {
     "name": "stdout",
     "output_type": "stream",
     "text": [
      "Upsample(scale_factor=2.0, mode='nearest')\n",
      "torch.Size([1, 512, 20, 20])\n",
      "torch.Size([1, 512, 40, 40])\n"
     ]
    }
   ],
   "execution_count": 9
  },
  {
   "metadata": {
    "ExecuteTime": {
     "end_time": "2025-09-23T11:56:52.478011Z",
     "start_time": "2025-09-23T11:56:52.473914Z"
    }
   },
   "cell_type": "code",
   "source": [
    "p11=model.model[11]\n",
    "print(p11)\n",
    "print(p_list[-1].shape,print(p_list[6].shape))\n",
    "out=p11([p_list[-1],p_list[6]])\n",
    "p_list.append(out)\n",
    "print(out.shape)"
   ],
   "id": "145807c2420a7a",
   "outputs": [
    {
     "name": "stdout",
     "output_type": "stream",
     "text": [
      "Concat()\n",
      "torch.Size([1, 256, 40, 40])\n",
      "torch.Size([1, 512, 40, 40]) None\n",
      "torch.Size([1, 768, 40, 40])\n"
     ]
    }
   ],
   "execution_count": 10
  },
  {
   "metadata": {
    "ExecuteTime": {
     "end_time": "2025-09-23T11:56:52.516231Z",
     "start_time": "2025-09-23T11:56:52.492321Z"
    }
   },
   "cell_type": "code",
   "source": [
    "p12=model.model[12]\n",
    "print(p12)\n",
    "print(p_list[-1].shape)\n",
    "out=p12(p_list[-1])\n",
    "p_list.append(out)\n",
    "print(out.shape)"
   ],
   "id": "21dbb3b62a7a8b61",
   "outputs": [
    {
     "name": "stdout",
     "output_type": "stream",
     "text": [
      "C2f(\n",
      "  (cv1): Conv(\n",
      "    (conv): Conv2d(768, 256, kernel_size=(1, 1), stride=(1, 1), bias=False)\n",
      "    (bn): BatchNorm2d(256, eps=0.001, momentum=0.03, affine=True, track_running_stats=True)\n",
      "    (act): SiLU(inplace=True)\n",
      "  )\n",
      "  (cv2): Conv(\n",
      "    (conv): Conv2d(640, 256, kernel_size=(1, 1), stride=(1, 1), bias=False)\n",
      "    (bn): BatchNorm2d(256, eps=0.001, momentum=0.03, affine=True, track_running_stats=True)\n",
      "    (act): SiLU(inplace=True)\n",
      "  )\n",
      "  (m): ModuleList(\n",
      "    (0-2): 3 x Bottleneck(\n",
      "      (cv1): Conv(\n",
      "        (conv): Conv2d(128, 128, kernel_size=(3, 3), stride=(1, 1), padding=(1, 1), bias=False)\n",
      "        (bn): BatchNorm2d(128, eps=0.001, momentum=0.03, affine=True, track_running_stats=True)\n",
      "        (act): SiLU(inplace=True)\n",
      "      )\n",
      "      (cv2): Conv(\n",
      "        (conv): Conv2d(128, 128, kernel_size=(3, 3), stride=(1, 1), padding=(1, 1), bias=False)\n",
      "        (bn): BatchNorm2d(128, eps=0.001, momentum=0.03, affine=True, track_running_stats=True)\n",
      "        (act): SiLU(inplace=True)\n",
      "      )\n",
      "    )\n",
      "  )\n",
      ")\n",
      "torch.Size([1, 768, 40, 40])\n",
      "torch.Size([1, 256, 40, 40])\n"
     ]
    }
   ],
   "execution_count": 11
  },
  {
   "metadata": {
    "ExecuteTime": {
     "end_time": "2025-09-23T11:56:52.528081Z",
     "start_time": "2025-09-23T11:56:52.524245Z"
    }
   },
   "cell_type": "code",
   "source": [
    "p13=model.model[13]\n",
    "print(p13)\n",
    "print(\"in_shape:\",p_list[-1].shape)\n",
    "out=p13(p_list[-1])\n",
    "p_list.append(out)\n",
    "print(\"out_shape\",out.shape)"
   ],
   "id": "4237bcf0c5ce8b1b",
   "outputs": [
    {
     "name": "stdout",
     "output_type": "stream",
     "text": [
      "Upsample(scale_factor=2.0, mode='nearest')\n",
      "in_shape: torch.Size([1, 256, 40, 40])\n",
      "out_shape torch.Size([1, 256, 80, 80])\n"
     ]
    }
   ],
   "execution_count": 12
  },
  {
   "metadata": {
    "ExecuteTime": {
     "end_time": "2025-09-23T11:56:52.559155Z",
     "start_time": "2025-09-23T11:56:52.554826Z"
    }
   },
   "cell_type": "code",
   "source": [
    "p14=model.model[14]\n",
    "print(p14)\n",
    "print(\"in_shape:\",p_list[-1].shape,p4_out.shape)\n",
    "out=p14([p_list[-1],p4_out])\n",
    "p_list.append(out)\n",
    "print(\"out_shape\",out.shape)\n"
   ],
   "id": "f71de7f81250e05c",
   "outputs": [
    {
     "name": "stdout",
     "output_type": "stream",
     "text": [
      "Concat()\n",
      "in_shape: torch.Size([1, 256, 80, 80]) torch.Size([1, 128, 80, 80])\n",
      "out_shape torch.Size([1, 384, 80, 80])\n"
     ]
    }
   ],
   "execution_count": 13
  },
  {
   "metadata": {
    "ExecuteTime": {
     "end_time": "2025-09-23T11:56:52.619364Z",
     "start_time": "2025-09-23T11:56:52.573694Z"
    }
   },
   "cell_type": "code",
   "source": [
    "p15=model.model[15]\n",
    "print(p15)\n",
    "print(\"in_shape:\",p_list[-1].shape)\n",
    "out=p15(p_list[-1])\n",
    "p_list.append(out)\n",
    "print(\"out_shape\",out.shape)\n"
   ],
   "id": "500cc176b2dddc44",
   "outputs": [
    {
     "name": "stdout",
     "output_type": "stream",
     "text": [
      "C2f(\n",
      "  (cv1): Conv(\n",
      "    (conv): Conv2d(384, 192, kernel_size=(1, 1), stride=(1, 1), bias=False)\n",
      "    (bn): BatchNorm2d(192, eps=0.001, momentum=0.03, affine=True, track_running_stats=True)\n",
      "    (act): SiLU(inplace=True)\n",
      "  )\n",
      "  (cv2): Conv(\n",
      "    (conv): Conv2d(480, 192, kernel_size=(1, 1), stride=(1, 1), bias=False)\n",
      "    (bn): BatchNorm2d(192, eps=0.001, momentum=0.03, affine=True, track_running_stats=True)\n",
      "    (act): SiLU(inplace=True)\n",
      "  )\n",
      "  (m): ModuleList(\n",
      "    (0-2): 3 x Bottleneck(\n",
      "      (cv1): Conv(\n",
      "        (conv): Conv2d(96, 96, kernel_size=(3, 3), stride=(1, 1), padding=(1, 1), bias=False)\n",
      "        (bn): BatchNorm2d(96, eps=0.001, momentum=0.03, affine=True, track_running_stats=True)\n",
      "        (act): SiLU(inplace=True)\n",
      "      )\n",
      "      (cv2): Conv(\n",
      "        (conv): Conv2d(96, 96, kernel_size=(3, 3), stride=(1, 1), padding=(1, 1), bias=False)\n",
      "        (bn): BatchNorm2d(96, eps=0.001, momentum=0.03, affine=True, track_running_stats=True)\n",
      "        (act): SiLU(inplace=True)\n",
      "      )\n",
      "    )\n",
      "  )\n",
      ")\n",
      "in_shape: torch.Size([1, 384, 80, 80])\n",
      "out_shape torch.Size([1, 192, 80, 80])\n"
     ]
    }
   ],
   "execution_count": 14
  },
  {
   "metadata": {
    "ExecuteTime": {
     "end_time": "2025-09-23T11:56:52.635158Z",
     "start_time": "2025-09-23T11:56:52.628669Z"
    }
   },
   "cell_type": "code",
   "source": [
    "p16=model.model[16]\n",
    "print(p16)\n",
    "print(\"in_shape:\",p_list[-1].shape)\n",
    "out=p16(p_list[-1])\n",
    "p_list.append(out)\n",
    "print(\"out_shape\",out.shape)\n"
   ],
   "id": "ce695a21a6104dc1",
   "outputs": [
    {
     "name": "stdout",
     "output_type": "stream",
     "text": [
      "Upsample(scale_factor=2.0, mode='nearest')\n",
      "in_shape: torch.Size([1, 192, 80, 80])\n",
      "out_shape torch.Size([1, 192, 160, 160])\n"
     ]
    }
   ],
   "execution_count": 15
  },
  {
   "metadata": {
    "ExecuteTime": {
     "end_time": "2025-09-23T11:56:52.670812Z",
     "start_time": "2025-09-23T11:56:52.663307Z"
    }
   },
   "cell_type": "code",
   "source": [
    "p17=model.model[17]\n",
    "print(p17)\n",
    "print(\"in_shape:\",p_list[-1].shape,p2_out.shape)\n",
    "out=p17([p_list[-1],p2_out])\n",
    "p_list.append(out)\n",
    "print(\"out_shape\",out.shape)"
   ],
   "id": "57a84762d9fd23e4",
   "outputs": [
    {
     "name": "stdout",
     "output_type": "stream",
     "text": [
      "Concat()\n",
      "in_shape: torch.Size([1, 192, 160, 160]) torch.Size([1, 64, 160, 160])\n",
      "out_shape torch.Size([1, 256, 160, 160])\n"
     ]
    }
   ],
   "execution_count": 16
  },
  {
   "metadata": {
    "ExecuteTime": {
     "end_time": "2025-09-23T11:56:52.765823Z",
     "start_time": "2025-09-23T11:56:52.689870Z"
    }
   },
   "cell_type": "code",
   "source": [
    "p18=model.model[18]\n",
    "print(p18)\n",
    "print(\"in_shape:\",p_list[-1].shape)\n",
    "out=p18(p_list[-1])\n",
    "p_list.append(out)\n",
    "print(\"out_shape\",out.shape)"
   ],
   "id": "b3f34fc8248e3abb",
   "outputs": [
    {
     "name": "stdout",
     "output_type": "stream",
     "text": [
      "C2f(\n",
      "  (cv1): Conv(\n",
      "    (conv): Conv2d(256, 128, kernel_size=(1, 1), stride=(1, 1), bias=False)\n",
      "    (bn): BatchNorm2d(128, eps=0.001, momentum=0.03, affine=True, track_running_stats=True)\n",
      "    (act): SiLU(inplace=True)\n",
      "  )\n",
      "  (cv2): Conv(\n",
      "    (conv): Conv2d(320, 128, kernel_size=(1, 1), stride=(1, 1), bias=False)\n",
      "    (bn): BatchNorm2d(128, eps=0.001, momentum=0.03, affine=True, track_running_stats=True)\n",
      "    (act): SiLU(inplace=True)\n",
      "  )\n",
      "  (m): ModuleList(\n",
      "    (0-2): 3 x Bottleneck(\n",
      "      (cv1): Conv(\n",
      "        (conv): Conv2d(64, 64, kernel_size=(3, 3), stride=(1, 1), padding=(1, 1), bias=False)\n",
      "        (bn): BatchNorm2d(64, eps=0.001, momentum=0.03, affine=True, track_running_stats=True)\n",
      "        (act): SiLU(inplace=True)\n",
      "      )\n",
      "      (cv2): Conv(\n",
      "        (conv): Conv2d(64, 64, kernel_size=(3, 3), stride=(1, 1), padding=(1, 1), bias=False)\n",
      "        (bn): BatchNorm2d(64, eps=0.001, momentum=0.03, affine=True, track_running_stats=True)\n",
      "        (act): SiLU(inplace=True)\n",
      "      )\n",
      "    )\n",
      "  )\n",
      ")\n",
      "in_shape: torch.Size([1, 256, 160, 160])\n",
      "out_shape torch.Size([1, 128, 160, 160])\n"
     ]
    }
   ],
   "execution_count": 17
  },
  {
   "metadata": {
    "ExecuteTime": {
     "end_time": "2025-09-23T11:56:52.782756Z",
     "start_time": "2025-09-23T11:56:52.779485Z"
    }
   },
   "cell_type": "code",
   "source": [
    "for p in p_list:\n",
    "    print(p.shape)"
   ],
   "id": "953b3f83c0ae9af2",
   "outputs": [
    {
     "name": "stdout",
     "output_type": "stream",
     "text": [
      "torch.Size([1, 3, 640, 640])\n",
      "torch.Size([1, 32, 320, 320])\n",
      "torch.Size([1, 64, 160, 160])\n",
      "torch.Size([1, 64, 160, 160])\n",
      "torch.Size([1, 128, 80, 80])\n",
      "torch.Size([1, 128, 80, 80])\n",
      "torch.Size([1, 256, 40, 40])\n",
      "torch.Size([1, 256, 40, 40])\n",
      "torch.Size([1, 512, 20, 20])\n",
      "torch.Size([1, 512, 20, 20])\n",
      "torch.Size([1, 512, 20, 20])\n",
      "torch.Size([1, 512, 40, 40])\n",
      "torch.Size([1, 768, 40, 40])\n",
      "torch.Size([1, 256, 40, 40])\n",
      "torch.Size([1, 256, 80, 80])\n",
      "torch.Size([1, 384, 80, 80])\n",
      "torch.Size([1, 192, 80, 80])\n",
      "torch.Size([1, 192, 160, 160])\n",
      "torch.Size([1, 256, 160, 160])\n",
      "torch.Size([1, 128, 160, 160])\n"
     ]
    }
   ],
   "execution_count": 18
  },
  {
   "metadata": {
    "ExecuteTime": {
     "end_time": "2025-09-23T11:56:52.804929Z",
     "start_time": "2025-09-23T11:56:52.801928Z"
    }
   },
   "cell_type": "code",
   "source": [
    "p18_out=p_list[19]\n",
    "p15_out=p_list[16]\n",
    "p12_out=p_list[13]\n",
    "p9_out=p_list[10]\n",
    "print(p18_out.shape)\n",
    "print(p15_out.shape)\n",
    "print(p12_out.shape)\n",
    "print(p9_out.shape)\n"
   ],
   "id": "c03334e8f98c34da",
   "outputs": [
    {
     "name": "stdout",
     "output_type": "stream",
     "text": [
      "torch.Size([1, 128, 160, 160])\n",
      "torch.Size([1, 192, 80, 80])\n",
      "torch.Size([1, 256, 40, 40])\n",
      "torch.Size([1, 512, 20, 20])\n"
     ]
    }
   ],
   "execution_count": 19
  },
  {
   "metadata": {
    "ExecuteTime": {
     "end_time": "2025-09-23T11:56:52.913578Z",
     "start_time": "2025-09-23T11:56:52.820493Z"
    }
   },
   "cell_type": "code",
   "source": [
    "detect=model.model[19]\n",
    "print(detect)\n",
    "print(\"in_shape:\",p18_out.shape,p15_out.shape,p12_out.shape,p9_out.shape)\n",
    "out=detect([p18_out,p15_out,p12_out,p9_out])\n"
   ],
   "id": "ca2d881453b19213",
   "outputs": [
    {
     "name": "stdout",
     "output_type": "stream",
     "text": [
      "Detect(\n",
      "  (cv2): ModuleList(\n",
      "    (0): Sequential(\n",
      "      (0): Conv(\n",
      "        (conv): Conv2d(128, 64, kernel_size=(3, 3), stride=(1, 1), padding=(1, 1), bias=False)\n",
      "        (bn): BatchNorm2d(64, eps=0.001, momentum=0.03, affine=True, track_running_stats=True)\n",
      "        (act): SiLU(inplace=True)\n",
      "      )\n",
      "      (1): Conv(\n",
      "        (conv): Conv2d(64, 64, kernel_size=(3, 3), stride=(1, 1), padding=(1, 1), bias=False)\n",
      "        (bn): BatchNorm2d(64, eps=0.001, momentum=0.03, affine=True, track_running_stats=True)\n",
      "        (act): SiLU(inplace=True)\n",
      "      )\n",
      "      (2): Conv2d(64, 64, kernel_size=(1, 1), stride=(1, 1))\n",
      "    )\n",
      "    (1): Sequential(\n",
      "      (0): Conv(\n",
      "        (conv): Conv2d(192, 64, kernel_size=(3, 3), stride=(1, 1), padding=(1, 1), bias=False)\n",
      "        (bn): BatchNorm2d(64, eps=0.001, momentum=0.03, affine=True, track_running_stats=True)\n",
      "        (act): SiLU(inplace=True)\n",
      "      )\n",
      "      (1): Conv(\n",
      "        (conv): Conv2d(64, 64, kernel_size=(3, 3), stride=(1, 1), padding=(1, 1), bias=False)\n",
      "        (bn): BatchNorm2d(64, eps=0.001, momentum=0.03, affine=True, track_running_stats=True)\n",
      "        (act): SiLU(inplace=True)\n",
      "      )\n",
      "      (2): Conv2d(64, 64, kernel_size=(1, 1), stride=(1, 1))\n",
      "    )\n",
      "    (2): Sequential(\n",
      "      (0): Conv(\n",
      "        (conv): Conv2d(256, 64, kernel_size=(3, 3), stride=(1, 1), padding=(1, 1), bias=False)\n",
      "        (bn): BatchNorm2d(64, eps=0.001, momentum=0.03, affine=True, track_running_stats=True)\n",
      "        (act): SiLU(inplace=True)\n",
      "      )\n",
      "      (1): Conv(\n",
      "        (conv): Conv2d(64, 64, kernel_size=(3, 3), stride=(1, 1), padding=(1, 1), bias=False)\n",
      "        (bn): BatchNorm2d(64, eps=0.001, momentum=0.03, affine=True, track_running_stats=True)\n",
      "        (act): SiLU(inplace=True)\n",
      "      )\n",
      "      (2): Conv2d(64, 64, kernel_size=(1, 1), stride=(1, 1))\n",
      "    )\n",
      "    (3): Sequential(\n",
      "      (0): Conv(\n",
      "        (conv): Conv2d(512, 64, kernel_size=(3, 3), stride=(1, 1), padding=(1, 1), bias=False)\n",
      "        (bn): BatchNorm2d(64, eps=0.001, momentum=0.03, affine=True, track_running_stats=True)\n",
      "        (act): SiLU(inplace=True)\n",
      "      )\n",
      "      (1): Conv(\n",
      "        (conv): Conv2d(64, 64, kernel_size=(3, 3), stride=(1, 1), padding=(1, 1), bias=False)\n",
      "        (bn): BatchNorm2d(64, eps=0.001, momentum=0.03, affine=True, track_running_stats=True)\n",
      "        (act): SiLU(inplace=True)\n",
      "      )\n",
      "      (2): Conv2d(64, 64, kernel_size=(1, 1), stride=(1, 1))\n",
      "    )\n",
      "  )\n",
      "  (cv3): ModuleList(\n",
      "    (0): Sequential(\n",
      "      (0): Conv(\n",
      "        (conv): Conv2d(128, 128, kernel_size=(3, 3), stride=(1, 1), padding=(1, 1), bias=False)\n",
      "        (bn): BatchNorm2d(128, eps=0.001, momentum=0.03, affine=True, track_running_stats=True)\n",
      "        (act): SiLU(inplace=True)\n",
      "      )\n",
      "      (1): Conv(\n",
      "        (conv): Conv2d(128, 128, kernel_size=(3, 3), stride=(1, 1), padding=(1, 1), bias=False)\n",
      "        (bn): BatchNorm2d(128, eps=0.001, momentum=0.03, affine=True, track_running_stats=True)\n",
      "        (act): SiLU(inplace=True)\n",
      "      )\n",
      "      (2): Conv2d(128, 10, kernel_size=(1, 1), stride=(1, 1))\n",
      "    )\n",
      "    (1): Sequential(\n",
      "      (0): Conv(\n",
      "        (conv): Conv2d(192, 128, kernel_size=(3, 3), stride=(1, 1), padding=(1, 1), bias=False)\n",
      "        (bn): BatchNorm2d(128, eps=0.001, momentum=0.03, affine=True, track_running_stats=True)\n",
      "        (act): SiLU(inplace=True)\n",
      "      )\n",
      "      (1): Conv(\n",
      "        (conv): Conv2d(128, 128, kernel_size=(3, 3), stride=(1, 1), padding=(1, 1), bias=False)\n",
      "        (bn): BatchNorm2d(128, eps=0.001, momentum=0.03, affine=True, track_running_stats=True)\n",
      "        (act): SiLU(inplace=True)\n",
      "      )\n",
      "      (2): Conv2d(128, 10, kernel_size=(1, 1), stride=(1, 1))\n",
      "    )\n",
      "    (2): Sequential(\n",
      "      (0): Conv(\n",
      "        (conv): Conv2d(256, 128, kernel_size=(3, 3), stride=(1, 1), padding=(1, 1), bias=False)\n",
      "        (bn): BatchNorm2d(128, eps=0.001, momentum=0.03, affine=True, track_running_stats=True)\n",
      "        (act): SiLU(inplace=True)\n",
      "      )\n",
      "      (1): Conv(\n",
      "        (conv): Conv2d(128, 128, kernel_size=(3, 3), stride=(1, 1), padding=(1, 1), bias=False)\n",
      "        (bn): BatchNorm2d(128, eps=0.001, momentum=0.03, affine=True, track_running_stats=True)\n",
      "        (act): SiLU(inplace=True)\n",
      "      )\n",
      "      (2): Conv2d(128, 10, kernel_size=(1, 1), stride=(1, 1))\n",
      "    )\n",
      "    (3): Sequential(\n",
      "      (0): Conv(\n",
      "        (conv): Conv2d(512, 128, kernel_size=(3, 3), stride=(1, 1), padding=(1, 1), bias=False)\n",
      "        (bn): BatchNorm2d(128, eps=0.001, momentum=0.03, affine=True, track_running_stats=True)\n",
      "        (act): SiLU(inplace=True)\n",
      "      )\n",
      "      (1): Conv(\n",
      "        (conv): Conv2d(128, 128, kernel_size=(3, 3), stride=(1, 1), padding=(1, 1), bias=False)\n",
      "        (bn): BatchNorm2d(128, eps=0.001, momentum=0.03, affine=True, track_running_stats=True)\n",
      "        (act): SiLU(inplace=True)\n",
      "      )\n",
      "      (2): Conv2d(128, 10, kernel_size=(1, 1), stride=(1, 1))\n",
      "    )\n",
      "  )\n",
      "  (dfl): DFL(\n",
      "    (conv): Conv2d(16, 1, kernel_size=(1, 1), stride=(1, 1), bias=False)\n",
      "  )\n",
      ")\n",
      "in_shape: torch.Size([1, 128, 160, 160]) torch.Size([1, 192, 80, 80]) torch.Size([1, 256, 40, 40]) torch.Size([1, 512, 20, 20])\n"
     ]
    }
   ],
   "execution_count": 20
  },
  {
   "metadata": {
    "ExecuteTime": {
     "end_time": "2025-09-23T11:56:52.925991Z",
     "start_time": "2025-09-23T11:56:52.922648Z"
    }
   },
   "cell_type": "code",
   "source": [
    "len(detect.cv2)\n",
    "print(detect.cv2)\n",
    "##工程历史遗留问题，导致的cv不是从1开始的，1是特征提取，2是边界框回归,3是类别概率预测\n",
    "\n"
   ],
   "id": "6c38cdde3b55eb1d",
   "outputs": [
    {
     "name": "stdout",
     "output_type": "stream",
     "text": [
      "ModuleList(\n",
      "  (0): Sequential(\n",
      "    (0): Conv(\n",
      "      (conv): Conv2d(128, 64, kernel_size=(3, 3), stride=(1, 1), padding=(1, 1), bias=False)\n",
      "      (bn): BatchNorm2d(64, eps=0.001, momentum=0.03, affine=True, track_running_stats=True)\n",
      "      (act): SiLU(inplace=True)\n",
      "    )\n",
      "    (1): Conv(\n",
      "      (conv): Conv2d(64, 64, kernel_size=(3, 3), stride=(1, 1), padding=(1, 1), bias=False)\n",
      "      (bn): BatchNorm2d(64, eps=0.001, momentum=0.03, affine=True, track_running_stats=True)\n",
      "      (act): SiLU(inplace=True)\n",
      "    )\n",
      "    (2): Conv2d(64, 64, kernel_size=(1, 1), stride=(1, 1))\n",
      "  )\n",
      "  (1): Sequential(\n",
      "    (0): Conv(\n",
      "      (conv): Conv2d(192, 64, kernel_size=(3, 3), stride=(1, 1), padding=(1, 1), bias=False)\n",
      "      (bn): BatchNorm2d(64, eps=0.001, momentum=0.03, affine=True, track_running_stats=True)\n",
      "      (act): SiLU(inplace=True)\n",
      "    )\n",
      "    (1): Conv(\n",
      "      (conv): Conv2d(64, 64, kernel_size=(3, 3), stride=(1, 1), padding=(1, 1), bias=False)\n",
      "      (bn): BatchNorm2d(64, eps=0.001, momentum=0.03, affine=True, track_running_stats=True)\n",
      "      (act): SiLU(inplace=True)\n",
      "    )\n",
      "    (2): Conv2d(64, 64, kernel_size=(1, 1), stride=(1, 1))\n",
      "  )\n",
      "  (2): Sequential(\n",
      "    (0): Conv(\n",
      "      (conv): Conv2d(256, 64, kernel_size=(3, 3), stride=(1, 1), padding=(1, 1), bias=False)\n",
      "      (bn): BatchNorm2d(64, eps=0.001, momentum=0.03, affine=True, track_running_stats=True)\n",
      "      (act): SiLU(inplace=True)\n",
      "    )\n",
      "    (1): Conv(\n",
      "      (conv): Conv2d(64, 64, kernel_size=(3, 3), stride=(1, 1), padding=(1, 1), bias=False)\n",
      "      (bn): BatchNorm2d(64, eps=0.001, momentum=0.03, affine=True, track_running_stats=True)\n",
      "      (act): SiLU(inplace=True)\n",
      "    )\n",
      "    (2): Conv2d(64, 64, kernel_size=(1, 1), stride=(1, 1))\n",
      "  )\n",
      "  (3): Sequential(\n",
      "    (0): Conv(\n",
      "      (conv): Conv2d(512, 64, kernel_size=(3, 3), stride=(1, 1), padding=(1, 1), bias=False)\n",
      "      (bn): BatchNorm2d(64, eps=0.001, momentum=0.03, affine=True, track_running_stats=True)\n",
      "      (act): SiLU(inplace=True)\n",
      "    )\n",
      "    (1): Conv(\n",
      "      (conv): Conv2d(64, 64, kernel_size=(3, 3), stride=(1, 1), padding=(1, 1), bias=False)\n",
      "      (bn): BatchNorm2d(64, eps=0.001, momentum=0.03, affine=True, track_running_stats=True)\n",
      "      (act): SiLU(inplace=True)\n",
      "    )\n",
      "    (2): Conv2d(64, 64, kernel_size=(1, 1), stride=(1, 1))\n",
      "  )\n",
      ")\n"
     ]
    }
   ],
   "execution_count": 21
  },
  {
   "metadata": {
    "ExecuteTime": {
     "end_time": "2025-09-23T11:56:52.947032Z",
     "start_time": "2025-09-23T11:56:52.941998Z"
    }
   },
   "cell_type": "code",
   "source": [
    "print(len(detect.cv3))\n",
    "detect.cv3"
   ],
   "id": "2a444e0df7f45319",
   "outputs": [
    {
     "name": "stdout",
     "output_type": "stream",
     "text": [
      "4\n"
     ]
    },
    {
     "data": {
      "text/plain": [
       "ModuleList(\n",
       "  (0): Sequential(\n",
       "    (0): Conv(\n",
       "      (conv): Conv2d(128, 128, kernel_size=(3, 3), stride=(1, 1), padding=(1, 1), bias=False)\n",
       "      (bn): BatchNorm2d(128, eps=0.001, momentum=0.03, affine=True, track_running_stats=True)\n",
       "      (act): SiLU(inplace=True)\n",
       "    )\n",
       "    (1): Conv(\n",
       "      (conv): Conv2d(128, 128, kernel_size=(3, 3), stride=(1, 1), padding=(1, 1), bias=False)\n",
       "      (bn): BatchNorm2d(128, eps=0.001, momentum=0.03, affine=True, track_running_stats=True)\n",
       "      (act): SiLU(inplace=True)\n",
       "    )\n",
       "    (2): Conv2d(128, 10, kernel_size=(1, 1), stride=(1, 1))\n",
       "  )\n",
       "  (1): Sequential(\n",
       "    (0): Conv(\n",
       "      (conv): Conv2d(192, 128, kernel_size=(3, 3), stride=(1, 1), padding=(1, 1), bias=False)\n",
       "      (bn): BatchNorm2d(128, eps=0.001, momentum=0.03, affine=True, track_running_stats=True)\n",
       "      (act): SiLU(inplace=True)\n",
       "    )\n",
       "    (1): Conv(\n",
       "      (conv): Conv2d(128, 128, kernel_size=(3, 3), stride=(1, 1), padding=(1, 1), bias=False)\n",
       "      (bn): BatchNorm2d(128, eps=0.001, momentum=0.03, affine=True, track_running_stats=True)\n",
       "      (act): SiLU(inplace=True)\n",
       "    )\n",
       "    (2): Conv2d(128, 10, kernel_size=(1, 1), stride=(1, 1))\n",
       "  )\n",
       "  (2): Sequential(\n",
       "    (0): Conv(\n",
       "      (conv): Conv2d(256, 128, kernel_size=(3, 3), stride=(1, 1), padding=(1, 1), bias=False)\n",
       "      (bn): BatchNorm2d(128, eps=0.001, momentum=0.03, affine=True, track_running_stats=True)\n",
       "      (act): SiLU(inplace=True)\n",
       "    )\n",
       "    (1): Conv(\n",
       "      (conv): Conv2d(128, 128, kernel_size=(3, 3), stride=(1, 1), padding=(1, 1), bias=False)\n",
       "      (bn): BatchNorm2d(128, eps=0.001, momentum=0.03, affine=True, track_running_stats=True)\n",
       "      (act): SiLU(inplace=True)\n",
       "    )\n",
       "    (2): Conv2d(128, 10, kernel_size=(1, 1), stride=(1, 1))\n",
       "  )\n",
       "  (3): Sequential(\n",
       "    (0): Conv(\n",
       "      (conv): Conv2d(512, 128, kernel_size=(3, 3), stride=(1, 1), padding=(1, 1), bias=False)\n",
       "      (bn): BatchNorm2d(128, eps=0.001, momentum=0.03, affine=True, track_running_stats=True)\n",
       "      (act): SiLU(inplace=True)\n",
       "    )\n",
       "    (1): Conv(\n",
       "      (conv): Conv2d(128, 128, kernel_size=(3, 3), stride=(1, 1), padding=(1, 1), bias=False)\n",
       "      (bn): BatchNorm2d(128, eps=0.001, momentum=0.03, affine=True, track_running_stats=True)\n",
       "      (act): SiLU(inplace=True)\n",
       "    )\n",
       "    (2): Conv2d(128, 10, kernel_size=(1, 1), stride=(1, 1))\n",
       "  )\n",
       ")"
      ]
     },
     "execution_count": 22,
     "metadata": {},
     "output_type": "execute_result"
    }
   ],
   "execution_count": 22
  },
  {
   "metadata": {
    "ExecuteTime": {
     "end_time": "2025-09-23T11:56:52.976726Z",
     "start_time": "2025-09-23T11:56:52.973345Z"
    }
   },
   "cell_type": "code",
   "source": "detect.dfl",
   "id": "93220546b48b57bb",
   "outputs": [
    {
     "data": {
      "text/plain": [
       "DFL(\n",
       "  (conv): Conv2d(16, 1, kernel_size=(1, 1), stride=(1, 1), bias=False)\n",
       ")"
      ]
     },
     "execution_count": 23,
     "metadata": {},
     "output_type": "execute_result"
    }
   ],
   "execution_count": 23
  },
  {
   "metadata": {
    "ExecuteTime": {
     "end_time": "2025-09-23T11:56:54.193921Z",
     "start_time": "2025-09-23T11:56:52.994008Z"
    }
   },
   "cell_type": "code",
   "source": [
    "input_tensor=torch.Tensor(4,3,640,640)\n",
    "output_tensor=model(input_tensor)\n",
    "print(output_tensor.shape)"
   ],
   "id": "b95d8964a55080f2",
   "outputs": [
    {
     "ename": "AttributeError",
     "evalue": "'list' object has no attribute 'shape'",
     "output_type": "error",
     "traceback": [
      "\u001B[1;31m---------------------------------------------------------------------------\u001B[0m",
      "\u001B[1;31mAttributeError\u001B[0m                            Traceback (most recent call last)",
      "Cell \u001B[1;32mIn[24], line 3\u001B[0m\n\u001B[0;32m      1\u001B[0m input_tensor\u001B[38;5;241m=\u001B[39mtorch\u001B[38;5;241m.\u001B[39mTensor(\u001B[38;5;241m4\u001B[39m,\u001B[38;5;241m3\u001B[39m,\u001B[38;5;241m640\u001B[39m,\u001B[38;5;241m640\u001B[39m)\n\u001B[0;32m      2\u001B[0m output_tensor\u001B[38;5;241m=\u001B[39mmodel(input_tensor)\n\u001B[1;32m----> 3\u001B[0m \u001B[38;5;28mprint\u001B[39m(output_tensor\u001B[38;5;241m.\u001B[39mshape)\n",
      "\u001B[1;31mAttributeError\u001B[0m: 'list' object has no attribute 'shape'"
     ]
    }
   ],
   "execution_count": 24
  },
  {
   "metadata": {
    "ExecuteTime": {
     "end_time": "2025-09-24T15:09:21.767801Z",
     "start_time": "2025-09-24T15:09:20.831401Z"
    }
   },
   "cell_type": "code",
   "source": [
    "from PIL import Image\n",
    "img=Image.open(r\"C:\\Users\\gaoge\\Desktop\\小目标识别\\ultralytics-main (副本)\\datasets\\VisDrone_yolov8n\\VisDrone2019-DET-val\\images\\0000001_02999_d_0000005.jpg\")\n",
    "model=YOLO(r\"C:\\Users\\gaoge\\Desktop\\小目标识别\\yolov8-SMALL-4head-SE-CA-ECA_63mAP\\yolov8-SMALL-4head-SE-CA-ECA_63mAP\\coco\\weights\\best.pt\")\n",
    "out=model(img,conf=0.5)\n",
    "out[0].show()\n"
   ],
   "id": "ab642ea3ec407e64",
   "outputs": [
    {
     "name": "stdout",
     "output_type": "stream",
     "text": [
      "\n",
      "0: 384x640 5 cars, 1 bus, 1 bench, 71.8ms\n",
      "Speed: 2.7ms preprocess, 71.8ms inference, 2.5ms postprocess per image at shape (1, 3, 384, 640)\n"
     ]
    }
   ],
   "execution_count": 28
  },
  {
   "metadata": {
    "ExecuteTime": {
     "end_time": "2025-09-24T15:10:08.272418Z",
     "start_time": "2025-09-24T15:10:07.432790Z"
    }
   },
   "cell_type": "code",
   "source": [
    "from PIL import Image\n",
    "img=Image.open(r\"C:\\Users\\gaoge\\Desktop\\小目标识别\\ultralytics-main (副本)\\datasets\\VisDrone_yolov8n\\VisDrone2019-DET-val\\images\\0000001_02999_d_0000005.jpg\")\n",
    "model=YOLO(r\"D:\\Models\\YOLOS4A-l.pt\")\n",
    "out=model(img,conf=0.5)\n",
    "out[0].show()"
   ],
   "id": "cb912b918100f1c",
   "outputs": [
    {
     "name": "stdout",
     "output_type": "stream",
     "text": [
      "\n",
      "0: 384x640 1 pedestrian, 7 peoples, 10 cars, 2 trucks, 10 motors, 61.1ms\n",
      "Speed: 1.8ms preprocess, 61.1ms inference, 1.9ms postprocess per image at shape (1, 3, 384, 640)\n"
     ]
    }
   ],
   "execution_count": 30
  },
  {
   "metadata": {
    "ExecuteTime": {
     "end_time": "2025-09-23T11:56:54.207436300Z",
     "start_time": "2025-09-23T06:08:58.467151Z"
    }
   },
   "cell_type": "code",
   "source": [
    "detect_model=DetectionModel(MODEL_PATH)\n",
    "yolo_model=YOLO(MODEL_PATH)\n"
   ],
   "id": "b9d6a73849a89122",
   "outputs": [
    {
     "name": "stdout",
     "output_type": "stream",
     "text": [
      "WARNING no model scale passed. Assuming scale='l'.\n",
      "\n",
      "                   from  n    params  module                                       arguments                     \n",
      "  0                  -1  1       928  ultralytics.nn.modules.conv.Conv             [3, 32, 3, 2]                 \n",
      "  1                  -1  1     18560  ultralytics.nn.modules.conv.Conv             [32, 64, 3, 2]                \n",
      "  2                  -1  2     49920  ultralytics.nn.modules.block.C2f_SE          [64, 64, 2, True]             \n",
      "  3                  -1  1     73984  ultralytics.nn.modules.conv.Conv             [64, 128, 3, 2]               \n",
      "  4                  -1  3    284872  ultralytics.nn.modules.block.C2f_CA          [128, 128, 3, True]           \n",
      "  5                  -1  1    295424  ultralytics.nn.modules.conv.Conv             [128, 256, 3, 2]              \n",
      "  6                  -1  3   1116681  ultralytics.nn.modules.block.C2f_ECA         [256, 256, 3, True]           \n",
      "  7                  -1  1   1180672  ultralytics.nn.modules.conv.Conv             [256, 512, 3, 2]              \n",
      "  8                  -1  2   3166208  ultralytics.nn.modules.block.C2f_SE          [512, 512, 2, True]           \n",
      "  9                  -1  1    656896  ultralytics.nn.modules.block.SPPF            [512, 512, 5]                 \n",
      " 10                  -1  1         0  torch.nn.modules.upsampling.Upsample         [None, 2, 'nearest']          \n",
      " 11             [-1, 6]  1         0  ultralytics.nn.modules.conv.Concat           [1]                           \n",
      " 12                  -1  3   1247744  ultralytics.nn.modules.block.C2f             [768, 256, 3]                 \n",
      " 13                  -1  1         0  torch.nn.modules.upsampling.Upsample         [None, 2, 'nearest']          \n",
      " 14             [-1, 4]  1         0  ultralytics.nn.modules.conv.Concat           [1]                           \n",
      " 15                  -1  3    665472  ultralytics.nn.modules.block.C2f             [384, 192, 3]                 \n",
      " 16                  -1  1         0  torch.nn.modules.upsampling.Upsample         [None, 2, 'nearest']          \n",
      " 17             [-1, 2]  1         0  ultralytics.nn.modules.conv.Concat           [1]                           \n",
      " 18                  -1  3    296192  ultralytics.nn.modules.block.C2f             [256, 128, 3]                 \n",
      " 19     [18, 15, 12, 9]  1   2642232  ultralytics.nn.modules.head.Detect           [10, [128, 192, 256, 512]]    \n",
      "YOLOv8-SMALL-4head-SE-CA-ECA summary: 217 layers, 11,695,785 parameters, 11,695,769 gradients, 75.3 GFLOPs\n",
      "\n",
      "WARNING no model scale passed. Assuming scale='l'.\n"
     ]
    }
   ],
   "execution_count": 32
  },
  {
   "metadata": {
    "ExecuteTime": {
     "end_time": "2025-09-23T11:56:54.208436Z",
     "start_time": "2025-09-23T06:10:01.962911Z"
    }
   },
   "cell_type": "code",
   "source": "yolo_model.model==detect_model.model",
   "id": "fa634b4568a8b8e9",
   "outputs": [
    {
     "data": {
      "text/plain": [
       "False"
      ]
     },
     "execution_count": 33,
     "metadata": {},
     "output_type": "execute_result"
    }
   ],
   "execution_count": 33
  },
  {
   "metadata": {},
   "cell_type": "code",
   "outputs": [],
   "execution_count": null,
   "source": "",
   "id": "3921a1a08ef2222d"
  }
 ],
 "metadata": {
  "kernelspec": {
   "display_name": "Python 3",
   "language": "python",
   "name": "python3"
  },
  "language_info": {
   "codemirror_mode": {
    "name": "ipython",
    "version": 2
   },
   "file_extension": ".py",
   "mimetype": "text/x-python",
   "name": "python",
   "nbconvert_exporter": "python",
   "pygments_lexer": "ipython2",
   "version": "2.7.6"
  }
 },
 "nbformat": 4,
 "nbformat_minor": 5
}
